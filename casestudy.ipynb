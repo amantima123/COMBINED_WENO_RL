{
 "cells": [
  {
   "cell_type": "markdown",
   "metadata": {},
   "source": [
    "### Learning to Control Partial Differential Equations: Regularized Fitted Q-Iteration Approach\n",
    "- 2016, IEEE Conference on Decision and Control (CDC)\n",
    "- Summary: It is not a paper of solving PDE but it provided an intuition on how to set the action space and the reward space.\n",
    "\n",
    "**Problem description**\n",
    "- The problem of optimal control for **time-varying 2D convection-diffusion PDE**\n",
    "    - In particular, the problem of finding an optimal heating, ventilating, air conditioning (HVAC) in a confined region.\n",
    "![figure1](./assets/hvac_problem.jpg)\n",
    "- Formulation of the problem.\n",
    "$$\\frac{\\partial T(z, t)}{\\partial t}=\\frac{1}{\\text{Pe}}\\nabla^2T-\\nabla\\cdot(vT)+S(z, t)$$\n",
    "    - $z \\in \\mathcal{Z}$ and $\\mathcal{Z}$ is the spatial domain\n",
    "    - $t \\in I$ and $I$ is the time domain\n",
    "    - $T: \\mathcal{Z} \\times I \\to \\mathbb{R} $ is temperature\n",
    "    - $v: \\mathcal{Z} \\times I \\to \\mathbb{R}^2$ is the vector field describing velocity field\n",
    "    - $S: \\mathcal{Z} \\times I \\to \\mathbb{R}$ the source\n",
    "    - $\\text{Pe}=\\frac{Lv_c}{D}$ is the Peclet number\n",
    "        - $L$ is the characteristic length of the domain\n",
    "        - $v_c$ is the characteristic velocity\n",
    "        - $D$ is the thermal diffusitivity constant\n",
    "- Temperature in the room can be controlled by the boundary condition.\n",
    "    - $T(z, t)=T_b(z, t), \\qquad \\forall z \\in \\partial \\mathcal{Z}_1$ (i.e., HVAC has been mounted on one side of the wall)\n",
    "    - $\\vec{n}\\cdot\\nabla T(z, t)=0. \\qquad\\;\\; \\forall z \\in \\partial \\mathcal{Z}_2$ (i.e., other sides of the wall has been insulated)\n",
    " \n",
    "**The action space**\n",
    "- They can control $T_b$ and $v$ by operating HVAC and fan, respectively\n",
    "- They considere the several predefined combinations of values of $T_b$ and $v$. For example, $\\{(30^\\circ C, 1 m/s), (30^\\circ C, 2 m/s), \\cdots (40^\\circ C, 10 m/s) \\}$\n",
    "- Then, the action space $A=\\{(T_b^a, v^a) | a=1,2,\\cdots,|A|\\}$\n",
    "\n",
    "**The space space**\n",
    "- The dynamics of the PDE at time $t$ is fully described when $v$, $T$, and $S$ are all known.\n",
    "- A state $x=(T, x)$, i.e., $X=\\{x=(T, S) | T \\in \\mathcal{T}, S \\in \\mathcal{S}\\}$\n",
    "\n",
    "**The reward function**\n",
    "> We would like the reward function to reflect **the desirability of the current state** of the system as well as **the cost of the selected action**\n",
    "- $r(x, a)=-\\int_{\\mathcal{Z}_p} (T(z)-T^*(z))^2 dz + c_{\\text{action}}(a)$\n",
    "    - $T^*(z)$ is the desirable temperature in the comfort zone $\\mathcal{Z}_p$ of people in the room\n",
    "    - $c_{\\text{action}}(a)$ is the cost of choosing the action such as the cost of heater or cooler and fan operation"
   ]
  },
  {
   "cell_type": "code",
   "execution_count": null,
   "metadata": {},
   "outputs": [],
   "source": []
  }
 ],
 "metadata": {
  "kernelspec": {
   "display_name": "Python 3",
   "language": "python",
   "name": "python3"
  },
  "language_info": {
   "codemirror_mode": {
    "name": "ipython",
    "version": 3
   },
   "file_extension": ".py",
   "mimetype": "text/x-python",
   "name": "python",
   "nbconvert_exporter": "python",
   "pygments_lexer": "ipython3",
   "version": "3.6.5"
  },
  "toc": {
   "base_numbering": 1,
   "nav_menu": {},
   "number_sections": false,
   "sideBar": true,
   "skip_h1_title": false,
   "title_cell": "Table of Contents",
   "title_sidebar": "Contents",
   "toc_cell": false,
   "toc_position": {
    "height": "calc(100% - 180px)",
    "left": "10px",
    "top": "150px",
    "width": "307.2px"
   },
   "toc_section_display": true,
   "toc_window_display": true
  },
  "varInspector": {
   "cols": {
    "lenName": 16,
    "lenType": 16,
    "lenVar": 40
   },
   "kernels_config": {
    "python": {
     "delete_cmd_postfix": "",
     "delete_cmd_prefix": "del ",
     "library": "var_list.py",
     "varRefreshCmd": "print(var_dic_list())"
    },
    "r": {
     "delete_cmd_postfix": ") ",
     "delete_cmd_prefix": "rm(",
     "library": "var_list.r",
     "varRefreshCmd": "cat(var_dic_list()) "
    }
   },
   "types_to_exclude": [
    "module",
    "function",
    "builtin_function_or_method",
    "instance",
    "_Feature"
   ],
   "window_display": false
  }
 },
 "nbformat": 4,
 "nbformat_minor": 4
}
